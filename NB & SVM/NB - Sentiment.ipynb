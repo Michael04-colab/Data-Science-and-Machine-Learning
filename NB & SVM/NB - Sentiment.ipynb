{
 "cells": [
  {
   "cell_type": "code",
   "execution_count": 1,
   "id": "e7310bb6",
   "metadata": {},
   "outputs": [
    {
     "name": "stdout",
     "output_type": "stream",
     "text": [
      "Collecting textblob\n",
      "  Obtaining dependency information for textblob from https://files.pythonhosted.org/packages/02/07/5fd2945356dd839974d3a25de8a142dc37293c21315729a41e775b5f3569/textblob-0.18.0.post0-py3-none-any.whl.metadata\n",
      "  Downloading textblob-0.18.0.post0-py3-none-any.whl.metadata (4.5 kB)\n",
      "Requirement already satisfied: nltk>=3.8 in /Users/kuldeepsabhnani/anaconda3/lib/python3.11/site-packages (from textblob) (3.8.1)\n",
      "Requirement already satisfied: click in /Users/kuldeepsabhnani/anaconda3/lib/python3.11/site-packages (from nltk>=3.8->textblob) (8.0.4)\n",
      "Requirement already satisfied: joblib in /Users/kuldeepsabhnani/anaconda3/lib/python3.11/site-packages (from nltk>=3.8->textblob) (1.2.0)\n",
      "Requirement already satisfied: regex>=2021.8.3 in /Users/kuldeepsabhnani/anaconda3/lib/python3.11/site-packages (from nltk>=3.8->textblob) (2022.7.9)\n",
      "Requirement already satisfied: tqdm in /Users/kuldeepsabhnani/anaconda3/lib/python3.11/site-packages (from nltk>=3.8->textblob) (4.65.0)\n",
      "Downloading textblob-0.18.0.post0-py3-none-any.whl (626 kB)\n",
      "\u001b[2K   \u001b[90m━━━━━━━━━━━━━━━━━━━━━━━━━━━━━━━━━━━━━━━━\u001b[0m \u001b[32m626.3/626.3 kB\u001b[0m \u001b[31m12.2 MB/s\u001b[0m eta \u001b[36m0:00:00\u001b[0ma \u001b[36m0:00:01\u001b[0m\n",
      "\u001b[?25hInstalling collected packages: textblob\n",
      "Successfully installed textblob-0.18.0.post0\n"
     ]
    }
   ],
   "source": [
    "! pip install textblob"
   ]
  },
  {
   "cell_type": "code",
   "execution_count": 2,
   "id": "d48dab4e",
   "metadata": {},
   "outputs": [],
   "source": [
    "from textblob.classifiers import NaiveBayesClassifier"
   ]
  },
  {
   "cell_type": "code",
   "execution_count": 10,
   "id": "b256a992",
   "metadata": {},
   "outputs": [],
   "source": [
    "train = [('I love this sandwich.', 'pos'), ('this is an amazing place!', 'pos'),\n",
    "         ('I feel very good about these beers.', 'pos'),\n",
    "         ('this is my best work.', 'pos'),(\"what an awesome view\", 'pos'),\n",
    "         ('I do not like this restaurant', 'neg'),('I am tired of this stuff.', 'neg'),\n",
    "         (\"I can't deal with this\", 'neg'),('he is my sworn enemy!', 'neg'),\n",
    "         ('my boss is horrible.', 'neg'),('i hate my boss.', 'neg')]"
   ]
  },
  {
   "cell_type": "code",
   "execution_count": 11,
   "id": "0d62cf7f",
   "metadata": {},
   "outputs": [],
   "source": [
    "cl = NaiveBayesClassifier(train)"
   ]
  },
  {
   "cell_type": "code",
   "execution_count": 12,
   "id": "64b9b130",
   "metadata": {},
   "outputs": [
    {
     "data": {
      "text/plain": [
       "'pos'"
      ]
     },
     "execution_count": 12,
     "metadata": {},
     "output_type": "execute_result"
    }
   ],
   "source": [
    "cl.classify('This is an amazing library')"
   ]
  },
  {
   "cell_type": "code",
   "execution_count": 13,
   "id": "fb3520f8",
   "metadata": {},
   "outputs": [
    {
     "data": {
      "text/plain": [
       "'neg'"
      ]
     },
     "execution_count": 13,
     "metadata": {},
     "output_type": "execute_result"
    }
   ],
   "source": [
    "cl.classify('i do not like your friend')"
   ]
  },
  {
   "cell_type": "code",
   "execution_count": 14,
   "id": "d3291a4e",
   "metadata": {},
   "outputs": [
    {
     "data": {
      "text/plain": [
       "'neg'"
      ]
     },
     "execution_count": 14,
     "metadata": {},
     "output_type": "execute_result"
    }
   ],
   "source": [
    "cl.classify('i hate bread')"
   ]
  },
  {
   "cell_type": "code",
   "execution_count": 15,
   "id": "644218a4",
   "metadata": {},
   "outputs": [],
   "source": [
    "train = [('Air India did a poor job of queue management both times.', 'staff service'), \n",
    "        ('The \\'cleaning\\' by flight attendants involved regularly spraying air freshener in the lavatories.', 'staff'),\n",
    "        ('The food tasted decent.', 'food'),\n",
    "        ('Flew Air India direct from New York to Delhi round trip.', 'route'),\n",
    "         ('Colombo to Moscow via Delhi.', 'route'),\n",
    "         ('Flew Birmingham to Delhi with Air India.', 'route'),\n",
    "         ('Without toilet, food or anything!', 'food'),\n",
    "         ('Cabin crew announcements included a sincere apology for the delay.', 'cabin flown')]"
   ]
  },
  {
   "cell_type": "code",
   "execution_count": 16,
   "id": "804147db",
   "metadata": {},
   "outputs": [],
   "source": [
    "cl = NaiveBayesClassifier(train)"
   ]
  },
  {
   "cell_type": "code",
   "execution_count": 17,
   "id": "5e09f0e6",
   "metadata": {},
   "outputs": [],
   "source": [
    "tests = ['Food is good.', 'Flew Birmingham to Mumbai via Delhi', \n",
    "         'Food distributed in aircraft was stale']"
   ]
  },
  {
   "cell_type": "code",
   "execution_count": 19,
   "id": "cb1cbc3f",
   "metadata": {},
   "outputs": [
    {
     "name": "stdout",
     "output_type": "stream",
     "text": [
      "food\n",
      "route\n",
      "food\n"
     ]
    }
   ],
   "source": [
    "for c in tests:\n",
    "    print(cl.classify(c))"
   ]
  },
  {
   "cell_type": "code",
   "execution_count": null,
   "id": "fe6d07e3",
   "metadata": {},
   "outputs": [],
   "source": []
  }
 ],
 "metadata": {
  "kernelspec": {
   "display_name": "Python 3 (ipykernel)",
   "language": "python",
   "name": "python3"
  },
  "language_info": {
   "codemirror_mode": {
    "name": "ipython",
    "version": 3
   },
   "file_extension": ".py",
   "mimetype": "text/x-python",
   "name": "python",
   "nbconvert_exporter": "python",
   "pygments_lexer": "ipython3",
   "version": "3.11.5"
  }
 },
 "nbformat": 4,
 "nbformat_minor": 5
}
